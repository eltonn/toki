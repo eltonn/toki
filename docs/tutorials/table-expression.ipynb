{
 "cells": [
  {
   "cell_type": "code",
   "execution_count": 1,
   "metadata": {},
   "outputs": [],
   "source": [
    "from __future__ import annotations\n",
    "import typing\n",
    "from typing import NewType, Union, Optional, List, Callable\n",
    "import dataclasses\n",
    "\n",
    "import metadsl\n",
    "import metadsl_rewrite\n",
    "import metadsl_core\n",
    "import pandas as pd\n",
    "\n",
    "from toki import datatypes as dts\n",
    "from toki import types as tt\n",
    "from toki.backend import Backend, BackendTranslator\n",
    "from toki.viz import visualize"
   ]
  },
  {
   "cell_type": "code",
   "execution_count": 2,
   "metadata": {},
   "outputs": [
    {
     "name": "stdout",
     "output_type": "stream",
     "text": [
      "IntegerExpr(1)\n",
      "Add(IntegerExpr(1), IntegerExpr(1))\n",
      "Add(IntegerExpr(1), IntegerExpr(1))\n"
     ]
    }
   ],
   "source": [
    "def constructor(fn: Callable):\n",
    "    \"\"\"Decorator for expression constructor.\"\"\"\n",
    "    def _fn(*args, **kwargs):\n",
    "        fn.__qualname__ = fn.__qualname__.split('.')[0]\n",
    "        return metadsl.expression(fn)(*args, **kwargs)\n",
    "    return _fn\n",
    "\n",
    "\n",
    "class Expr(metadsl.Expression):\n",
    "    \"\"\"Meta expression.\"\"\"\n",
    "    \n",
    "    @property\n",
    "    def _display_name(self) -> str:\n",
    "        return self.__class__.__name__\n",
    "    \n",
    "    @staticmethod\n",
    "    def expr(*args, **kwargs):\n",
    "        \"\"\"Create an expression with the given value.\"\"\"\n",
    "        raise NotImplementedError('Operation not supported yet.')\n",
    "    \n",
    "    def __repr__(self) -> str:\n",
    "        fn_name = self.function if not str(self.function) == 'expr' else self._display_name\n",
    "            \n",
    "        output = '{}({})'.format(fn_name, self.args)\n",
    "        return output\n",
    "\n",
    "\n",
    "class DataTypeExpr(Expr):\n",
    "    \"\"\"Data type expression.\"\"\"\n",
    "    \n",
    "    def __add__(self, other: Union[DataType, int, float]):\n",
    "        raise NotImplementedError('Operation not supported yet.')\n",
    "\n",
    "        \n",
    "class OperationExpr(Expr):\n",
    "    \"\"\"Operation expression.\"\"\"\n",
    "\n",
    "\n",
    "class IntegerExpr(DataTypeExpr):\n",
    "    \"\"\"String expression.\"\"\"\n",
    "    \n",
    "    @staticmethod\n",
    "    @constructor\n",
    "    def expr(value: int) -> IntegerExpr:\n",
    "        \"\"\"Create an IntegerExpr expression with the given value.\"\"\"\n",
    "    \n",
    "    @property\n",
    "    def value(self) -> int:\n",
    "        return self.args[0]\n",
    "    \n",
    "    \n",
    "class Add(OperationExpr):\n",
    "    \"\"\"Binary ``add`` operation.\"\"\"\n",
    "    \n",
    "    @property\n",
    "    def left(self) -> DataTypeExpr:\n",
    "        return self.args[0]\n",
    "    \n",
    "    @property\n",
    "    def right(self) -> DataTypeExpr:\n",
    "        return self.args[1]\n",
    "    \n",
    "    @staticmethod\n",
    "    @constructor\n",
    "    def expr(left: DataTypeExpr, right:DataTypeExpr) -> Add:\n",
    "        \"\"\"Create an Add expression for the given parameters.\"\"\"\n",
    "    \n",
    "def register(name, klass, f_source_name, f_target):\n",
    "    f_target.__qualname__ = name\n",
    "    setattr(klass, f_source_name, metadsl.expression(f_target))\n",
    "    \n",
    "\n",
    "def _integer_add(x: Union[int, IntegerExpr], y: Union[int, IntegerExpr]) -> Add:\n",
    "    \"\"\"Dispatch for addition between two integers.\"\"\"\n",
    "\n",
    "    \n",
    "register('Add', IntegerExpr, '__add__', _integer_add)\n",
    "IntegerExpr.__add__ = metadsl.expression(_integer_add)\n",
    "i = IntegerExpr.expr(1)\n",
    "expr_add = Add.expr(i, i)\n",
    "print(i)\n",
    "print(expr_add)\n",
    "print(i + i)"
   ]
  },
  {
   "cell_type": "code",
   "execution_count": 3,
   "metadata": {},
   "outputs": [
    {
     "name": "stdout",
     "output_type": "stream",
     "text": [
      "TableSchema\n",
      "  col_1: int64(nullale)\n",
      "  col_2: float64(nullale)\n",
      "\n"
     ]
    }
   ],
   "source": [
    "sch = tt.TableSchema.expr({\n",
    "    'col_1': {'type': 'int64', 'nullable': True},\n",
    "    'col_2': {'type': 'float64', 'nullable': True},\n",
    "})\n",
    "\n",
    "print(sch)"
   ]
  },
  {
   "cell_type": "code",
   "execution_count": 4,
   "metadata": {},
   "outputs": [
    {
     "data": {
      "text/plain": [
       "metadsl.typing_tools.Infer"
      ]
     },
     "execution_count": 4,
     "metadata": {},
     "output_type": "execute_result"
    }
   ],
   "source": [
    "type(sch.function)"
   ]
  },
  {
   "cell_type": "code",
   "execution_count": 5,
   "metadata": {},
   "outputs": [
    {
     "data": {
      "text/plain": [
       "postgres.public.my_table: Table\n",
       "  col_1: int64(nullale)\n",
       "  col_2: float64(nullale)"
      ]
     },
     "execution_count": 5,
     "metadata": {},
     "output_type": "execute_result"
    }
   ],
   "source": [
    "table = tt.Table.expr(\n",
    "    'my_table', \n",
    "    sch, \n",
    "    database_name='postgres', \n",
    "    database_schema_name='public'\n",
    ")\n",
    "table"
   ]
  },
  {
   "cell_type": "code",
   "execution_count": 6,
   "metadata": {},
   "outputs": [
    {
     "ename": "TypeError",
     "evalue": "'PlaceholderExpression' object is not subscriptable",
     "output_type": "error",
     "traceback": [
      "\u001b[0;31m---------------------------------------------------------------------------\u001b[0m",
      "\u001b[0;31mTypeError\u001b[0m                                 Traceback (most recent call last)",
      "\u001b[0;32m<ipython-input-6-75844ec5ea34>\u001b[0m in \u001b[0;36m<module>\u001b[0;34m\u001b[0m\n\u001b[0;32m----> 1\u001b[0;31m \u001b[0mexpr\u001b[0m \u001b[0;34m=\u001b[0m \u001b[0mtable\u001b[0m\u001b[0;34m[\u001b[0m\u001b[0;34m[\u001b[0m\u001b[0;34m'col_1'\u001b[0m\u001b[0;34m,\u001b[0m \u001b[0;34m'col_2'\u001b[0m\u001b[0;34m]\u001b[0m\u001b[0;34m]\u001b[0m\u001b[0;34m[\u001b[0m\u001b[0;34m'col_1'\u001b[0m\u001b[0;34m]\u001b[0m\u001b[0;34m\u001b[0m\u001b[0;34m\u001b[0m\u001b[0m\n\u001b[0m\u001b[1;32m      2\u001b[0m \u001b[0mexpr\u001b[0m\u001b[0;34m\u001b[0m\u001b[0;34m\u001b[0m\u001b[0m\n",
      "\u001b[0;31mTypeError\u001b[0m: 'PlaceholderExpression' object is not subscriptable"
     ]
    }
   ],
   "source": [
    "expr = table[['col_1', 'col_2']]['col_1']\n",
    "expr"
   ]
  },
  {
   "cell_type": "code",
   "execution_count": null,
   "metadata": {},
   "outputs": [],
   "source": [
    "import stackeddag.core as sd"
   ]
  },
  {
   "cell_type": "code",
   "execution_count": null,
   "metadata": {},
   "outputs": [],
   "source": [
    "import pydot\n",
    "import stackeddag.core as sd\n",
    "\n",
    "def graph2ascii(graph) -> str:\n",
    "    v = pydot.graph_from_dot_data(str(graph))\n",
    "    g = v[0]\n",
    "    edges = g.get_edges()\n",
    "    nodes = g.get_nodes()\n",
    "    la = []\n",
    "    for i in nodes:\n",
    "        attr = i.get_attributes()\n",
    "        if 'label' in attr:\n",
    "            name = i.get_name()\n",
    "            label = attr['label']\n",
    "            if label.startswith('\"'):\n",
    "                label = label[1:]\n",
    "            if label.endswith('\"'):\n",
    "                label = label[:-1]\n",
    "            la.append((name, label))\n",
    "    ed = []\n",
    "    for i in edges:\n",
    "        src = i.get_source()\n",
    "        dst = i.get_destination()\n",
    "        ed.append((src, [dst]))\n",
    "    return sd.edgesToText(sd.mkLabels(la), sd.mkEdges(ed))"
   ]
  },
  {
   "cell_type": "code",
   "execution_count": null,
   "metadata": {},
   "outputs": [],
   "source": [
    "import graphviz as gv\n",
    "from uuid import uuid4\n",
    "\n",
    "\n",
    "def expr_to_graph(expr: tt.Expr) -> gv.Digraph:\n",
    "    g = gv.Digraph(comment='Graph')\n",
    "    g.attr('node', shape='box', rankdir='BT')\n",
    "    \n",
    "    edges = []\n",
    "\n",
    "    nodes = [expr]\n",
    "    parent = None\n",
    "    while len(nodes):\n",
    "        node = nodes.pop(0)\n",
    "        node_id = str(id(node))\n",
    "        g.node(node_id, '{}.{}'.format(node._display_name, node.function))\n",
    "        if parent:\n",
    "            edges.append((node_id, parent[0]))\n",
    "        parent = (node_id, node)\n",
    "        \n",
    "        for i in node.args:\n",
    "            if isinstance(i, tt.Expr):\n",
    "                nodes.append(i)\n",
    "            else:\n",
    "                item_id = uuid4().hex\n",
    "                if isinstance(i, dict):\n",
    "                    for k, v in i.items():\n",
    "                        item_id = str(id(k))\n",
    "                        item_val = '{}:{}'.format(k, v)\n",
    "                        g.node(item_id, item_val)\n",
    "                        edges.append((item_id, node_id))\n",
    "                else:\n",
    "                    item_val = str(i)\n",
    "                    g.node(item_id, item_val)\n",
    "                    edges.append((item_id, node_id))\n",
    "                \n",
    "\n",
    "    g.edges(edges)\n",
    "    return g\n",
    "    \n",
    "graph0 = expr_to_graph(expr)\n",
    "print(graph2ascii(graph0), end=\"\")"
   ]
  },
  {
   "cell_type": "code",
   "execution_count": null,
   "metadata": {},
   "outputs": [],
   "source": [
    "new_expr = (((((expr + 1) - 1) * 3) / 2) ** 2) % 2\n",
    "new_expr"
   ]
  },
  {
   "cell_type": "code",
   "execution_count": null,
   "metadata": {},
   "outputs": [],
   "source": [
    "graph1 = expr_to_graph(new_expr)\n",
    "print(str(graph1))\n",
    "print(graph2ascii(graph1))"
   ]
  },
  {
   "cell_type": "code",
   "execution_count": null,
   "metadata": {},
   "outputs": [],
   "source": [
    "graph1"
   ]
  },
  {
   "cell_type": "raw",
   "metadata": {},
   "source": []
  }
 ],
 "metadata": {
  "kernelspec": {
   "display_name": "Python 3",
   "language": "python",
   "name": "python3"
  },
  "language_info": {
   "codemirror_mode": {
    "name": "ipython",
    "version": 3
   },
   "file_extension": ".py",
   "mimetype": "text/x-python",
   "name": "python",
   "nbconvert_exporter": "python",
   "pygments_lexer": "ipython3",
   "version": "3.8.3"
  }
 },
 "nbformat": 4,
 "nbformat_minor": 4
}
