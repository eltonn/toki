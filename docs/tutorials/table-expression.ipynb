{
 "cells": [
  {
   "cell_type": "code",
   "execution_count": 1,
   "metadata": {},
   "outputs": [],
   "source": [
    "from __future__ import annotations\n",
    "from typing import NewType, Union\n",
    "import dataclasses\n",
    "\n",
    "import metadsl\n",
    "import metadsl_rewrite\n",
    "import metadsl_core\n",
    "import pandas as pd\n",
    "\n",
    "from toki import datatypes as tdt\n",
    "from toki import types as tt\n",
    "from toki.backend import Backend, BackendTranslator"
   ]
  },
  {
   "cell_type": "code",
   "execution_count": 2,
   "metadata": {},
   "outputs": [
    {
     "name": "stdout",
     "output_type": "stream",
     "text": [
      "TableSchemaExpr\n",
      "  col_1: int64(nullale)\n",
      "  col_2: float64(nullale)\n",
      "\n"
     ]
    }
   ],
   "source": [
    "sch = tt.table_schema({\n",
    "    'col_1': {'type': 'int64', 'nullable': True},\n",
    "    'col_2': {'type': 'float64', 'nullable': True},\n",
    "})\n",
    "\n",
    "print(sch)"
   ]
  },
  {
   "cell_type": "code",
   "execution_count": 3,
   "metadata": {},
   "outputs": [
    {
     "data": {
      "text/plain": [
       "postgres.public.my_table: TableExpr\n",
       "  col_1: int64(nullale)\n",
       "  col_2: float64(nullale)"
      ]
     },
     "execution_count": 3,
     "metadata": {},
     "output_type": "execute_result"
    }
   ],
   "source": [
    "table = tt.table(\n",
    "    'my_table', \n",
    "    sch, \n",
    "    database_name='postgres', \n",
    "    database_schema_name='public'\n",
    ")\n",
    "table"
   ]
  },
  {
   "cell_type": "code",
   "execution_count": 7,
   "metadata": {},
   "outputs": [
    {
     "data": {
      "text/plain": [
       "SelectionExpr[col_1]\n",
       "  SelectionExpr[['col_1', 'col_2']]\n",
       "    postgres.public.my_table: TableExpr\n",
       "      col_1: int64(nullale)\n",
       "      col_2: float64(nullale)\n",
       "    \n",
       "  "
      ]
     },
     "execution_count": 7,
     "metadata": {},
     "output_type": "execute_result"
    }
   ],
   "source": [
    "table[['col_1', 'col_2']]['col_1']"
   ]
  },
  {
   "cell_type": "code",
   "execution_count": 5,
   "metadata": {},
   "outputs": [
    {
     "ename": "AssertionError",
     "evalue": "",
     "output_type": "error",
     "traceback": [
      "\u001b[0;31m-----------------------------------------\u001b[0m",
      "\u001b[0;31mAssertionError\u001b[0mTraceback (most recent call last)",
      "\u001b[0;32m<ipython-input-5-a871fdc9ebee>\u001b[0m in \u001b[0;36m<module>\u001b[0;34m\u001b[0m\n\u001b[0;32m----> 1\u001b[0;31m \u001b[0;32massert\u001b[0m \u001b[0;32mFalse\u001b[0m\u001b[0;34m\u001b[0m\u001b[0;34m\u001b[0m\u001b[0m\n\u001b[0m",
      "\u001b[0;31mAssertionError\u001b[0m: "
     ]
    }
   ],
   "source": [
    "assert False"
   ]
  },
  {
   "cell_type": "code",
   "execution_count": null,
   "metadata": {},
   "outputs": [],
   "source": [
    "import graphviz as gv"
   ]
  },
  {
   "cell_type": "code",
   "execution_count": null,
   "metadata": {},
   "outputs": [],
   "source": [
    "def _get_entity_class_html(expr):\n",
    "    class_template = '''<<TABLE BORDER=\"0\" CELLBORDER=\"1\" CELLSPACING=\"1\" CELLPADDING=\"1\">\n",
    "      <TR>\n",
    "        <TD>{}</TD>\n",
    "      </TR>\n",
    "      <TR>\n",
    "        <TD>\n",
    "          <TABLE BORDER=\"0\" CELLBORDER=\"0\" CELLSPACING=\"0\" CELLPADDING=\"1\">\n",
    "          {}\n",
    "          </TABLE>\n",
    "        </TD>\n",
    "      </TR>\n",
    "    </TABLE>>'''\n",
    "\n",
    "    class_name_template = (\n",
    "        '<BR ALIGN=\"LEFT\" />  <I>{}</I> <BR ALIGN=\"LEFT\" />'\n",
    "    )\n",
    "    row_key_value_template = '<TR><TD><b>{}</b>: {} ({})</TD></TR>'\n",
    "    row_key_template = '<TR><TD>{}</TD></TR>'\n",
    "\n",
    "    empty_row = '<TR><TD></TD></TR>'\n",
    "    \n",
    "    \n",
    "    \n",
    "    entity_title = '<b>{}</b>: {}'.format(str(expr), type(expr).__name__)\n",
    "    \n",
    "    \n",
    "    class_name_template.format(entity_title)\n",
    "    entity_attrs = []\n",
    "    \n",
    "    for k, v in expr.args[1].args[0].items():\n",
    "        entity_attrs.append(\n",
    "            row_key_value_template.format(k, v['type'], 'nullable' if v['nullable'] else 'non-nullable')\n",
    "        )\n",
    "        \n",
    "\n",
    "    return class_template.format(\n",
    "        entity_title,\n",
    "        '\\n'.join(entity_attrs),\n",
    "    )\n",
    "\n",
    "\n",
    "def show_expr(expr: Expr):\n",
    "    g = gv.Digraph(comment='Graph')\n",
    "    g.attr('node', shape='none', rankdir='BT')\n",
    "\n",
    "    edges = []\n",
    "    g.node(str(type(expr)), _get_entity_class_html(expr))\n",
    "\n",
    "    # edges.append((_get_fullname(b), _get_fullname(c)))\n",
    "\n",
    "\n",
    "    g.edges(edges)\n",
    "    return g\n",
    "\n",
    "\n",
    "show_expr(table)"
   ]
  }
 ],
 "metadata": {
  "kernelspec": {
   "display_name": "Python 3",
   "language": "python",
   "name": "python3"
  },
  "language_info": {
   "codemirror_mode": {
    "name": "ipython",
    "version": 3
   },
   "file_extension": ".py",
   "mimetype": "text/x-python",
   "name": "python",
   "nbconvert_exporter": "python",
   "pygments_lexer": "ipython3",
   "version": "3.8.2"
  }
 },
 "nbformat": 4,
 "nbformat_minor": 4
}
