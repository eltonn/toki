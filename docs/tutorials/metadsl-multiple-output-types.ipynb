{
 "cells": [
  {
   "cell_type": "code",
   "execution_count": 1,
   "metadata": {},
   "outputs": [],
   "source": [
    "from __future__ import annotations\n",
    "from typing import Union, List\n",
    "import metadsl\n",
    "import metadsl_rewrite\n",
    "from metadsl_core.strategies import register_core"
   ]
  },
  {
   "cell_type": "code",
   "execution_count": 2,
   "metadata": {},
   "outputs": [],
   "source": [
    "class Projection(metadsl.Expression):\n",
    "    \"\"\"Projection expression.\"\"\"\n",
    "    \n",
    "    \n",
    "class Column(metadsl.Expression):\n",
    "    \"\"\"Column expression\"\"\"\n",
    "\n",
    "    \n",
    "class Table(metadsl.Expression):\n",
    "    \"\"\"Table base expression class.\"\"\"\n",
    "    @metadsl.expression\n",
    "    def __getitem__(\n",
    "        self, key: Union[str, List[str]]\n",
    "    ) -> Union[Projection, Column]:\n",
    "        \"\"\"Get item from Table.\"\"\""
   ]
  },
  {
   "cell_type": "code",
   "execution_count": 3,
   "metadata": {},
   "outputs": [],
   "source": [
    "@metadsl.expression\n",
    "def table(data: dict) -> Table:\n",
    "    \"\"\"Create a table expression.\"\"\"\n",
    "    \n",
    "@metadsl.expression\n",
    "def projection(table: Table, keys: list) -> Projection:\n",
    "    \"\"\"Create a projection expression.\"\"\"\n",
    "    \n",
    "@metadsl.expression\n",
    "def column(table: Table, key: str) -> Column:\n",
    "    \"\"\"Create a column expression.\"\"\""
   ]
  },
  {
   "cell_type": "code",
   "execution_count": 4,
   "metadata": {},
   "outputs": [],
   "source": [
    "expr = table({'a': [1, 2, 3]})"
   ]
  },
  {
   "cell_type": "code",
   "execution_count": 5,
   "metadata": {},
   "outputs": [
    {
     "data": {
      "text/plain": [
       "metadsl.expressions.PlaceholderExpression[typing.Union[__main__.Projection, __main__.Column]](Table.__getitem__, [__main__.Table(table, [{'a': [1, 2, 3]}], {}), 'a'], {})"
      ]
     },
     "execution_count": 5,
     "metadata": {},
     "output_type": "execute_result"
    }
   ],
   "source": [
    "expr['a']"
   ]
  },
  {
   "cell_type": "code",
   "execution_count": 6,
   "metadata": {},
   "outputs": [
    {
     "data": {
      "text/plain": [
       "metadsl.expressions.PlaceholderExpression[typing.Union[__main__.Projection, __main__.Column]](Table.__getitem__, [__main__.Table(table, [{'a': [1, 2, 3]}], {}), ['a']], {})"
      ]
     },
     "execution_count": 6,
     "metadata": {},
     "output_type": "execute_result"
    }
   ],
   "source": [
    "expr[['a']]"
   ]
  },
  {
   "cell_type": "code",
   "execution_count": 7,
   "metadata": {},
   "outputs": [],
   "source": [
    "def rewrite(fn):\n",
    "    register_core(metadsl_rewrite.rule(fn))\n",
    "\n",
    "    \n",
    "def _getitem_str(t: Table, k: list):\n",
    "    return (\n",
    "        # expression to match agains\n",
    "        t[k],\n",
    "        # expression it is replaced with\n",
    "        lambda: projection(t, k)\n",
    "    )\n",
    "\n",
    "\n",
    "def _getitem_list(t: Table, k: str):\n",
    "    return (\n",
    "        # expression to match agains\n",
    "        t[k],\n",
    "        # expression it is replaced with\n",
    "        lambda: column(t, k)\n",
    "    )\n",
    "\n",
    "\n",
    "rewrite(_getitem_str)\n",
    "rewrite(_getitem_list)"
   ]
  },
  {
   "cell_type": "code",
   "execution_count": 8,
   "metadata": {},
   "outputs": [
    {
     "data": {
      "text/plain": [
       "__main__.Column(column, [__main__.Table(table, [{'a': [1, 2, 3]}], {}), 'a'], {})"
      ]
     },
     "execution_count": 8,
     "metadata": {},
     "output_type": "execute_result"
    }
   ],
   "source": [
    "metadsl_rewrite.execute(expr['a'])"
   ]
  },
  {
   "cell_type": "code",
   "execution_count": 9,
   "metadata": {},
   "outputs": [
    {
     "data": {
      "text/plain": [
       "__main__.Projection(projection, [__main__.Table(table, [{'a': [1, 2, 3]}], {}), ['a']], {})"
      ]
     },
     "execution_count": 9,
     "metadata": {},
     "output_type": "execute_result"
    }
   ],
   "source": [
    "metadsl_rewrite.execute(expr[['a']])"
   ]
  },
  {
   "cell_type": "code",
   "execution_count": 10,
   "metadata": {},
   "outputs": [
    {
     "data": {
      "text/plain": [
       "metadsl.expressions.PlaceholderExpression[typing.Union[__main__.Projection, __main__.Column]](Table.__getitem__, [__main__.Table(table, [{'a': [1, 2, 3]}], {}), ['a']], {})"
      ]
     },
     "execution_count": 10,
     "metadata": {},
     "output_type": "execute_result"
    }
   ],
   "source": [
    "expr[['a']]"
   ]
  }
 ],
 "metadata": {
  "kernelspec": {
   "display_name": "Python 3",
   "language": "python",
   "name": "python3"
  },
  "language_info": {
   "codemirror_mode": {
    "name": "ipython",
    "version": 3
   },
   "file_extension": ".py",
   "mimetype": "text/x-python",
   "name": "python",
   "nbconvert_exporter": "python",
   "pygments_lexer": "ipython3",
   "version": "3.8.3"
  }
 },
 "nbformat": 4,
 "nbformat_minor": 4
}
