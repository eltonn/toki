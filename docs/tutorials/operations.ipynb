{
 "cells": [
  {
   "cell_type": "code",
   "execution_count": 1,
   "metadata": {},
   "outputs": [],
   "source": [
    "from __future__ import annotations\n",
    "import typing\n",
    "from typing import NewType, Union, Optional, List, Callable\n",
    "import dataclasses\n",
    "\n",
    "import metadsl\n",
    "import metadsl_rewrite\n",
    "import metadsl_core\n",
    "import pandas as pd\n",
    "\n",
    "from toki import datatypes as dts\n",
    "from toki import types as tt\n",
    "from toki.backend import Backend, BackendTranslator\n",
    "from toki.viz import visualize"
   ]
  },
  {
   "cell_type": "code",
   "execution_count": 2,
   "metadata": {},
   "outputs": [
    {
     "name": "stdout",
     "output_type": "stream",
     "text": [
      "TableSchema\n",
      "  col_1: int64(nullale)\n",
      "  col_2: float64(nullale)\n",
      "\n"
     ]
    }
   ],
   "source": [
    "sch = tt.TableSchema.expr({\n",
    "    'col_1': {'type': 'int64', 'nullable': True},\n",
    "    'col_2': {'type': 'float64', 'nullable': True},\n",
    "})\n",
    "\n",
    "print(sch)"
   ]
  },
  {
   "cell_type": "code",
   "execution_count": 3,
   "metadata": {},
   "outputs": [
    {
     "data": {
      "text/plain": [
       "metadsl.typing_tools.Infer"
      ]
     },
     "execution_count": 3,
     "metadata": {},
     "output_type": "execute_result"
    }
   ],
   "source": [
    "type(sch.function)"
   ]
  },
  {
   "cell_type": "code",
   "execution_count": 4,
   "metadata": {},
   "outputs": [
    {
     "data": {
      "text/plain": [
       "Number.Add([Number([1]), Number([1])])"
      ]
     },
     "execution_count": 4,
     "metadata": {},
     "output_type": "execute_result"
    }
   ],
   "source": [
    "dts.Number.expr(1) + dts.Number.expr(1)"
   ]
  },
  {
   "cell_type": "code",
   "execution_count": 5,
   "metadata": {},
   "outputs": [
    {
     "data": {
      "text/plain": [
       "Int8.Add([int8([1]), int8([8])])"
      ]
     },
     "execution_count": 5,
     "metadata": {},
     "output_type": "execute_result"
    }
   ],
   "source": [
    "dts.int8(1) + dts.int8(8)"
   ]
  },
  {
   "cell_type": "code",
   "execution_count": 6,
   "metadata": {},
   "outputs": [
    {
     "data": {
      "text/plain": [
       "Int8.Subtract([int8([1]), int8([8])])"
      ]
     },
     "execution_count": 6,
     "metadata": {},
     "output_type": "execute_result"
    }
   ],
   "source": [
    "dts.int8(1) - dts.int8(8)"
   ]
  },
  {
   "cell_type": "code",
   "execution_count": 7,
   "metadata": {},
   "outputs": [
    {
     "data": {
      "text/plain": [
       "postgres.public.my_table: Table\n",
       "  col_1: int64(nullale)\n",
       "  col_2: float64(nullale)"
      ]
     },
     "execution_count": 7,
     "metadata": {},
     "output_type": "execute_result"
    }
   ],
   "source": [
    "table = tt.Table.expr(\n",
    "    'my_table', \n",
    "    sch, \n",
    "    database_name='postgres', \n",
    "    database_schema_name='public'\n",
    ")\n",
    "table"
   ]
  },
  {
   "cell_type": "code",
   "execution_count": 8,
   "metadata": {},
   "outputs": [
    {
     "data": {
      "text/plain": [
       "toki.types.Table"
      ]
     },
     "execution_count": 8,
     "metadata": {},
     "output_type": "execute_result"
    }
   ],
   "source": [
    "type(table)"
   ]
  },
  {
   "cell_type": "code",
   "execution_count": 9,
   "metadata": {},
   "outputs": [
    {
     "data": {
      "text/plain": [
       "IntegerColumn.Add([IntegerColumn[col_1]\n",
       "  postgres.public.my_table: Table\n",
       "    col_1: int64(nullale)\n",
       "    col_2: float64(nullale)\n",
       "  \n",
       ", 1])"
      ]
     },
     "execution_count": 9,
     "metadata": {},
     "output_type": "execute_result"
    }
   ],
   "source": [
    "table['col_1'] + 1"
   ]
  },
  {
   "cell_type": "code",
   "execution_count": 10,
   "metadata": {},
   "outputs": [
    {
     "data": {
      "text/plain": [
       "Projection[['col_1']]\n",
       "  postgres.public.my_table: Table\n",
       "    col_1: int64(nullale)\n",
       "    col_2: float64(nullale)\n",
       "  "
      ]
     },
     "execution_count": 10,
     "metadata": {},
     "output_type": "execute_result"
    }
   ],
   "source": [
    "table[['col_1']]"
   ]
  },
  {
   "cell_type": "code",
   "execution_count": 15,
   "metadata": {},
   "outputs": [
    {
     "data": {
      "text/plain": [
       "IntegerColumn[col_1](as tmp)\n",
       "  postgres.public.my_table: Table\n",
       "    col_1: int64(nullale)\n",
       "    col_2: float64(nullale)\n",
       "  "
      ]
     },
     "execution_count": 15,
     "metadata": {},
     "output_type": "execute_result"
    }
   ],
   "source": [
    "table['col_1'].name('tmp')"
   ]
  },
  {
   "cell_type": "code",
   "execution_count": 14,
   "metadata": {},
   "outputs": [
    {
     "data": {
      "text/plain": [
       "IntegerColumn[col_1]\n",
       "  postgres.public.my_table: Table\n",
       "    col_1: int64(nullale)\n",
       "    col_2: float64(nullale)\n",
       "  "
      ]
     },
     "execution_count": 14,
     "metadata": {},
     "output_type": "execute_result"
    }
   ],
   "source": [
    "table['col_1']"
   ]
  }
 ],
 "metadata": {
  "kernelspec": {
   "display_name": "Python 3",
   "language": "python",
   "name": "python3"
  },
  "language_info": {
   "codemirror_mode": {
    "name": "ipython",
    "version": 3
   },
   "file_extension": ".py",
   "mimetype": "text/x-python",
   "name": "python",
   "nbconvert_exporter": "python",
   "pygments_lexer": "ipython3",
   "version": "3.8.3"
  }
 },
 "nbformat": 4,
 "nbformat_minor": 4
}
